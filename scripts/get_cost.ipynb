{
 "cells": [
  {
   "cell_type": "code",
   "execution_count": null,
   "metadata": {},
   "outputs": [],
   "source": [
    "import boto3"
   ]
  },
  {
   "cell_type": "code",
   "execution_count": null,
   "metadata": {},
   "outputs": [],
   "source": [
    "client = boto3.client('ce')\n"
   ]
  },
  {
   "cell_type": "code",
   "execution_count": null,
   "metadata": {},
   "outputs": [],
   "source": [
    "from datetime import datetime,timedelta\n",
    "\n",
    "today=datetime.now()\n",
    "before=today-timedelta(days=7)\n",
    "res=client.get_cost_and_usage(\n",
    "    TimePeriod={\n",
    "        \"Start\":before.strftime(\"%Y-%m-%d\"),\n",
    "        \"End\":today.strftime(\"%Y-%m-%d\")\n",
    "    },\n",
    "    Granularity=\"DAILY\",\n",
    "    Metrics=[\n",
    "        \"BlendedCost\", \"UnblendedCost\", \"UsageQuantity\"\n",
    "    ]\n",
    ")\n",
    "import json\n",
    "with open(\"../output/cost_daily.json\", \"w\", encoding=\"utf-8\") as f:\n",
    "    json.dump(res,f)"
   ]
  },
  {
   "cell_type": "code",
   "execution_count": null,
   "metadata": {},
   "outputs": [],
   "source": [
    "from datetime import datetime,timedelta\n",
    "from dateutil.relativedelta import relativedelta\n",
    "\n",
    "today=datetime.now()\n",
    "today=today.replace(day=1)\n",
    "today=today+relativedelta(months=1)\n",
    "before=today-relativedelta(months=1)\n",
    "res=client.get_cost_and_usage(\n",
    "    TimePeriod={\n",
    "        \"Start\":before.strftime(\"%Y-%m-%d\"),\n",
    "        \"End\":today.strftime(\"%Y-%m-%d\")\n",
    "    },\n",
    "    Granularity=\"MONTHLY\",\n",
    "    Metrics=[\n",
    "        \"BlendedCost\", \"UnblendedCost\", \"UsageQuantity\"\n",
    "    ]\n",
    ")\n",
    "import json\n",
    "with open(\"../output/cost_monthly.json\", \"w\", encoding=\"utf-8\") as f:\n",
    "    json.dump(res,f)"
   ]
  },
  {
   "cell_type": "code",
   "execution_count": null,
   "metadata": {},
   "outputs": [],
   "source": []
  }
 ],
 "metadata": {
  "kernelspec": {
   "display_name": "Python 3",
   "language": "python",
   "name": "python3"
  },
  "language_info": {
   "codemirror_mode": {
    "name": "ipython",
    "version": 3
   },
   "file_extension": ".py",
   "mimetype": "text/x-python",
   "name": "python",
   "nbconvert_exporter": "python",
   "pygments_lexer": "ipython3",
   "version": "3.11.1"
  },
  "vscode": {
   "interpreter": {
    "hash": "5238573367df39f7286bb46f9ff5f08f63a01a80960060ce41e3c79b190280fa"
   }
  }
 },
 "nbformat": 4,
 "nbformat_minor": 2
}
